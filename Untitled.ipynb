{
 "cells": [
  {
   "cell_type": "code",
   "execution_count": 1,
   "metadata": {},
   "outputs": [
    {
     "name": "stderr",
     "output_type": "stream",
     "text": [
      "/opt/conda/lib/python3.5/site-packages/sklearn/cross_validation.py:44: DeprecationWarning: This module was deprecated in version 0.18 in favor of the model_selection module into which all the refactored classes and functions are moved. Also note that the interface of the new CV iterators are different from that of this module. This module will be removed in 0.20.\n",
      "  \"This module will be removed in 0.20.\", DeprecationWarning)\n"
     ]
    }
   ],
   "source": [
    "import pandas as pd\n",
    "import numpy as np\n",
    "import xgboost as xgb\n",
    "import datetime\n",
    "\n",
    "\n",
    "input_path = '.'\n",
    "\n",
    "def load_order_data(file_name):\n",
    "    df = pd.read_csv('%s/%s' % (input_path, file_name))\n",
    "    c = 'order_unix_time'\n",
    "    mask = pd.notnull(df[c])#notnull,是一个标注，可以判断每个数据是否为空。为以后可以进行布尔索引\n",
    "    df.loc[mask, c] = df.loc[mask, c].apply(lambda x: datetime.datetime.fromtimestamp(x))#参考核心编程p286-288\n",
    "    df.loc[mask, 'date'] = df.loc[mask, c].apply(lambda x: x.strftime('%Y%m%d'))#df.loc[]的用法，[行标，列标]\n",
    "    df.loc[mask, 'hour'] = df.loc[mask, c].apply(lambda x: x.hour)\n",
    "    df.loc[mask, 'minute'] = df.loc[mask, c].apply(lambda x: x.minute)\n",
    "    return df\n",
    "\n",
    "def load_area_data(file_name):\n",
    "    df = pd.read_csv('%s/%s' % (input_path, file_name), dtype={'date': str, 'time': str})\n",
    "    mask = pd.notnull(df['time'])\n",
    "    df.loc[mask, 'hour'] = df.loc[mask, 'time'].apply(lambda x: int(x[:2]))\n",
    "    df.loc[mask, 'minute'] = df.loc[mask, 'time'].apply(lambda x: int(x[2:]))\n",
    "    df.drop(['log_unix_time', 'time'], axis=1, inplace=True)\n",
    "    return df\n"
   ]
  },
  {
   "cell_type": "code",
   "execution_count": 2,
   "metadata": {},
   "outputs": [
    {
     "name": "stdout",
     "output_type": "stream",
     "text": [
      "loading data...\n",
      "merging data...\n"
     ]
    }
   ],
   "source": [
    "print('loading data...')\n",
    "df_tr = load_order_data('./all_data/waybill_info.csv')\n",
    "#先查看数据，及describe，发现最大值与最小值，然后找出11点与17点的数据用于以后的训练\n",
    "mask = (df_tr.delivery_duration < 4654.0) & (df_tr.delivery_duration > 663.0) & ((df_tr.hour.values == 11) | (df_tr.hour.values == 17))\n",
    "df_tr = df_tr.loc[mask]\n",
    "df_te = load_order_data('./all_data/waybill_info_test_b.csv')\n",
    "\n",
    "df_tr_weather = load_area_data('./all_data/weather_realtime.csv')\n",
    "df_te_weather = load_area_data('./all_data/weather_realtime_test.csv')\n",
    "\n",
    "df_tr_area = load_area_data('./all_data/area_realtime.csv')\n",
    "df_te_area = load_area_data('./all_data/area_realtime_test.csv')\n",
    "\n",
    "print('merging data...')\n",
    "df_tr = pd.merge(df_tr, df_tr_weather, on=['date', 'hour', 'minute', 'area_id'], how='left')\n",
    "df_tr = pd.merge(df_tr, df_tr_area, on=['date', 'hour', 'minute', 'area_id'], how='left')\n",
    "\n",
    "df_te = pd.merge(df_te, df_te_weather, on=['date', 'hour', 'minute', 'area_id'], how='left')\n",
    "df_te = pd.merge(df_te, df_te_area, on=['date', 'hour', 'minute', 'area_id'], how='left')\n"
   ]
  },
  {
   "cell_type": "code",
   "execution_count": 3,
   "metadata": {},
   "outputs": [
    {
     "name": "stdout",
     "output_type": "stream",
     "text": [
      "constructing training data...\n",
      "['area_id', 'box_total_value', 'customer_latitude', 'customer_longitude', 'delivery_distance', 'deliverying_order_num', 'food_num', 'food_total_value', 'hour', 'minute', 'not_fetched_order_num', 'notbusy_working_rider_num', 'poi_id', 'poi_lat', 'poi_lng', 'rain', 'temperature', 'waiting_order_num', 'wind', 'working_rider_num']\n"
     ]
    }
   ],
   "source": [
    "print('constructing training data...')\n",
    "cols = df_tr.columns.tolist()\n",
    "to_drop = ['order_unix_time', 'arriveshop_unix_time', 'fetch_unix_time', 'finish_unix_time', 'order_id', 'delivery_duration', 'date']\n",
    "features = list(np.setdiff1d(cols, to_drop))#通过np.setdiffd返回不同将无用特征去掉\n",
    "print(features)\n"
   ]
  },
  {
   "cell_type": "code",
   "execution_count": 4,
   "metadata": {
    "collapsed": true
   },
   "outputs": [],
   "source": [
    "x_train = df_tr[features]\n",
    "y_train = df_tr['delivery_duration']\n",
    "\n",
    "x_test = df_te[features]\n",
    "id_test = df_te['order_id']"
   ]
  },
  {
   "cell_type": "code",
   "execution_count": 5,
   "metadata": {},
   "outputs": [
    {
     "name": "stdout",
     "output_type": "stream",
     "text": [
      "(85887, 20)\n",
      "(251864, 20)\n"
     ]
    }
   ],
   "source": [
    "print(x_train.shape)\n",
    "print(x_test.shape)\n",
    "\n",
    "dtrain = xgb.DMatrix(x_train.values, y_train)\n",
    "dtest = xgb.DMatrix(x_test.values)"
   ]
  },
  {
   "cell_type": "code",
   "execution_count": null,
   "metadata": {},
   "outputs": [],
   "source": [
    "print('training model...')\n",
    "watchlist = [(dtrain, 'train')]#用于evals_result的参数，来显示进度\n",
    "param = {\n",
    "        'booster': 'gbtree',\n",
    "        'objective': 'reg:linear',\n",
    "        'eval_metric': 'mae',\n",
    "        'eta': 0.01,\n",
    "        'num_round': 20000,\n",
    "        'colsample_bytree': 0.65,\n",
    "        'subsample': 0.8,\n",
    "        'max_depth': 5,\n",
    "        'nthread': -1,\n",
    "        'seed': 20171001,\n",
    "        'silent': 1,\n",
    "    }\n",
    "bst = xgb.train(param, dtrain, param['num_round'],watchlist, verbose_eval=10)"
   ]
  },
  {
   "cell_type": "code",
   "execution_count": null,
   "metadata": {
    "collapsed": true
   },
   "outputs": [],
   "source": []
  }
 ],
 "metadata": {
  "kernelspec": {
   "display_name": "Python 3",
   "language": "python",
   "name": "python3"
  },
  "language_info": {
   "codemirror_mode": {
    "name": "ipython",
    "version": 3
   },
   "file_extension": ".py",
   "mimetype": "text/x-python",
   "name": "python",
   "nbconvert_exporter": "python",
   "pygments_lexer": "ipython3",
   "version": "3.5.2"
  }
 },
 "nbformat": 4,
 "nbformat_minor": 2
}
